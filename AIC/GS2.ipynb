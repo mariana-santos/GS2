{
  "cells": [
    {
      "cell_type": "markdown",
      "id": "dc2dbf66",
      "metadata": {
        "id": "dc2dbf66"
      },
      "source": [
        "# IA & Chatbots: Global Solution\n",
        "\n",
        "Entregáveis:\n",
        "\n",
        "1.\t**Modelo Descritivo:** Façam a análise exploratória de dados da fome (com ao menos 3 gráficos e 3\n",
        "estatísticas) com dados de índice de fome de 2014 até 2022, disponíveis em:\n",
        "https://www.kaggle.com/datasets/parasharmanas/global-hunger-index-2022-trends. Verifiquem se existem\n",
        "possíveis agrupamentos nos dados e como isso muda as estatísticas. (3.5 pontos)\n",
        "\n",
        "\n",
        "2.\t**Modelo Preditivo:** Treine um modelo de regressão para predizer Value (tamanho da produção) a partir de\n",
        "Year com dados de produção de colheitas de vários países do mundo:\n",
        "https://www.kaggle.com/datasets/pranav941/-world-food-wealth-bank. Faça o treino usando: (a) dados de\n",
        "todos os países e (b) dados apenas do Brasil. Após isso, discuta: o modelo de Machine Learning aponta um\n",
        "cenário otimista para o futuro? Qual a predição de produção para 2030? e 2050? (3.5 pontos)\n",
        "\n",
        "3.\t**Modelo Generativo:** em células markdown, discuta \"como o ChatGPT e a Inteligência Artificial poderiam ser\n",
        "aplicados no combate à fome?\". Apresente uma solução que utilize um Modelo Generativo de Linguagem\n",
        "(LLMs, Large Language Models, modelos de linguagem grandes generativos, como o ChatGPT) e/ou Modelos\n",
        "Generativos de Imagens (como Midjourney e DALL-E). Considere que, apesar do ChatGPT ser uma ferramenta\n",
        "bastante interessante, existe um problema que os modelos LLMs enfrentam, chamado de Alucinação: os\n",
        "modelos generativos afirmam com confiança fatos que não parecem ser justificados por seus dados de\n",
        "treinamento. Discuta como isso poderia afetar o uso de modelos generativos no problema. Compare com os\n",
        "modelos descritivos e preditivos. (3 pontos)\n",
        "\n",
        "\n",
        "Turma - \n",
        "\n",
        "Insira os nomes e RM na célula abaixo:\n",
        "\n",
        "--------------------------"
      ]
    },
    {
      "cell_type": "code",
      "execution_count": null,
      "id": "7fc2c92c",
      "metadata": {
        "id": "7fc2c92c"
      },
      "outputs": [],
      "source": [
        "# Nomes e RM:\n",
        "# Bruna Menegatti Vienna - RM 96848\n",
        "# Kaue Caponero Figueiredo - RM 96466\n",
        "# Mariana Santos Fernandes de Sousa - RM 97503\n",
        "\n",
        "\n"
      ]
    },
    {
      "cell_type": "markdown",
      "id": "cf90323a",
      "metadata": {
        "id": "cf90323a"
      },
      "source": [
        "São 8 atributos mais a classe (onde 1 significa que testou positivo para diabetes):\n",
        "- **preg** Number of times pregnant\n",
        "- **plas** Plasma glucose concentration a 2 hours in an oral glucose tolerance test\n",
        "- **pres** Diastolic blood pressure (mm Hg)\n",
        "- **skin** Triceps skin fold thickness (mm)\n",
        "- **insu** 2-Hour serum insulin (mu U/mL)\n",
        "- **mass** Body mass index (weight in kg/ height in m²)\n",
        "- **pedi** Diabetes pedigree function\n",
        "- **age** Age (years)\n",
        "- **Class** variable (0 or 1)"
      ]
    },
    {
      "cell_type": "markdown",
      "id": "71c599e3",
      "metadata": {
        "id": "71c599e3"
      },
      "source": [
        "### Exercício 1.1 - Faça análise exploratória dos dados\n",
        "\n",
        "Realizar leitura da tabela\n",
        "\n",
        "Exibir dados da tabela\n",
        "\n",
        "Exibir graficos de histograma de todos as características (features, colunas) da tabela. Obs. Mostrar apenas das features e não da coluna dos rótulos."
      ]
    },
    {
      "cell_type": "code",
      "execution_count": 2,
      "id": "641d37a0",
      "metadata": {
        "id": "641d37a0"
      },
      "outputs": [],
      "source": [
        "# Para trabalhar com dados em tabelas\n",
        "import pandas as pd\n",
        "\n",
        "# Para trabalhar com gráficos\n",
        "import matplotlib.pyplot as plt  \n",
        "import seaborn as sns"
      ]
    },
    {
      "cell_type": "code",
      "execution_count": 5,
      "id": "c04cb914",
      "metadata": {
        "colab": {
          "base_uri": "https://localhost:8080/",
          "height": 73
        },
        "id": "c04cb914",
        "outputId": "995b0b5e-b0e7-45ad-d5fc-ef93b74b7a7d"
      },
      "outputs": [
        {
          "output_type": "display_data",
          "data": {
            "text/plain": [
              "<IPython.core.display.HTML object>"
            ],
            "text/html": [
              "\n",
              "     <input type=\"file\" id=\"files-392538a5-adb2-456f-8dc2-fd50254d5d69\" name=\"files[]\" multiple disabled\n",
              "        style=\"border:none\" />\n",
              "     <output id=\"result-392538a5-adb2-456f-8dc2-fd50254d5d69\">\n",
              "      Upload widget is only available when the cell has been executed in the\n",
              "      current browser session. Please rerun this cell to enable.\n",
              "      </output>\n",
              "      <script>// Copyright 2017 Google LLC\n",
              "//\n",
              "// Licensed under the Apache License, Version 2.0 (the \"License\");\n",
              "// you may not use this file except in compliance with the License.\n",
              "// You may obtain a copy of the License at\n",
              "//\n",
              "//      http://www.apache.org/licenses/LICENSE-2.0\n",
              "//\n",
              "// Unless required by applicable law or agreed to in writing, software\n",
              "// distributed under the License is distributed on an \"AS IS\" BASIS,\n",
              "// WITHOUT WARRANTIES OR CONDITIONS OF ANY KIND, either express or implied.\n",
              "// See the License for the specific language governing permissions and\n",
              "// limitations under the License.\n",
              "\n",
              "/**\n",
              " * @fileoverview Helpers for google.colab Python module.\n",
              " */\n",
              "(function(scope) {\n",
              "function span(text, styleAttributes = {}) {\n",
              "  const element = document.createElement('span');\n",
              "  element.textContent = text;\n",
              "  for (const key of Object.keys(styleAttributes)) {\n",
              "    element.style[key] = styleAttributes[key];\n",
              "  }\n",
              "  return element;\n",
              "}\n",
              "\n",
              "// Max number of bytes which will be uploaded at a time.\n",
              "const MAX_PAYLOAD_SIZE = 100 * 1024;\n",
              "\n",
              "function _uploadFiles(inputId, outputId) {\n",
              "  const steps = uploadFilesStep(inputId, outputId);\n",
              "  const outputElement = document.getElementById(outputId);\n",
              "  // Cache steps on the outputElement to make it available for the next call\n",
              "  // to uploadFilesContinue from Python.\n",
              "  outputElement.steps = steps;\n",
              "\n",
              "  return _uploadFilesContinue(outputId);\n",
              "}\n",
              "\n",
              "// This is roughly an async generator (not supported in the browser yet),\n",
              "// where there are multiple asynchronous steps and the Python side is going\n",
              "// to poll for completion of each step.\n",
              "// This uses a Promise to block the python side on completion of each step,\n",
              "// then passes the result of the previous step as the input to the next step.\n",
              "function _uploadFilesContinue(outputId) {\n",
              "  const outputElement = document.getElementById(outputId);\n",
              "  const steps = outputElement.steps;\n",
              "\n",
              "  const next = steps.next(outputElement.lastPromiseValue);\n",
              "  return Promise.resolve(next.value.promise).then((value) => {\n",
              "    // Cache the last promise value to make it available to the next\n",
              "    // step of the generator.\n",
              "    outputElement.lastPromiseValue = value;\n",
              "    return next.value.response;\n",
              "  });\n",
              "}\n",
              "\n",
              "/**\n",
              " * Generator function which is called between each async step of the upload\n",
              " * process.\n",
              " * @param {string} inputId Element ID of the input file picker element.\n",
              " * @param {string} outputId Element ID of the output display.\n",
              " * @return {!Iterable<!Object>} Iterable of next steps.\n",
              " */\n",
              "function* uploadFilesStep(inputId, outputId) {\n",
              "  const inputElement = document.getElementById(inputId);\n",
              "  inputElement.disabled = false;\n",
              "\n",
              "  const outputElement = document.getElementById(outputId);\n",
              "  outputElement.innerHTML = '';\n",
              "\n",
              "  const pickedPromise = new Promise((resolve) => {\n",
              "    inputElement.addEventListener('change', (e) => {\n",
              "      resolve(e.target.files);\n",
              "    });\n",
              "  });\n",
              "\n",
              "  const cancel = document.createElement('button');\n",
              "  inputElement.parentElement.appendChild(cancel);\n",
              "  cancel.textContent = 'Cancel upload';\n",
              "  const cancelPromise = new Promise((resolve) => {\n",
              "    cancel.onclick = () => {\n",
              "      resolve(null);\n",
              "    };\n",
              "  });\n",
              "\n",
              "  // Wait for the user to pick the files.\n",
              "  const files = yield {\n",
              "    promise: Promise.race([pickedPromise, cancelPromise]),\n",
              "    response: {\n",
              "      action: 'starting',\n",
              "    }\n",
              "  };\n",
              "\n",
              "  cancel.remove();\n",
              "\n",
              "  // Disable the input element since further picks are not allowed.\n",
              "  inputElement.disabled = true;\n",
              "\n",
              "  if (!files) {\n",
              "    return {\n",
              "      response: {\n",
              "        action: 'complete',\n",
              "      }\n",
              "    };\n",
              "  }\n",
              "\n",
              "  for (const file of files) {\n",
              "    const li = document.createElement('li');\n",
              "    li.append(span(file.name, {fontWeight: 'bold'}));\n",
              "    li.append(span(\n",
              "        `(${file.type || 'n/a'}) - ${file.size} bytes, ` +\n",
              "        `last modified: ${\n",
              "            file.lastModifiedDate ? file.lastModifiedDate.toLocaleDateString() :\n",
              "                                    'n/a'} - `));\n",
              "    const percent = span('0% done');\n",
              "    li.appendChild(percent);\n",
              "\n",
              "    outputElement.appendChild(li);\n",
              "\n",
              "    const fileDataPromise = new Promise((resolve) => {\n",
              "      const reader = new FileReader();\n",
              "      reader.onload = (e) => {\n",
              "        resolve(e.target.result);\n",
              "      };\n",
              "      reader.readAsArrayBuffer(file);\n",
              "    });\n",
              "    // Wait for the data to be ready.\n",
              "    let fileData = yield {\n",
              "      promise: fileDataPromise,\n",
              "      response: {\n",
              "        action: 'continue',\n",
              "      }\n",
              "    };\n",
              "\n",
              "    // Use a chunked sending to avoid message size limits. See b/62115660.\n",
              "    let position = 0;\n",
              "    do {\n",
              "      const length = Math.min(fileData.byteLength - position, MAX_PAYLOAD_SIZE);\n",
              "      const chunk = new Uint8Array(fileData, position, length);\n",
              "      position += length;\n",
              "\n",
              "      const base64 = btoa(String.fromCharCode.apply(null, chunk));\n",
              "      yield {\n",
              "        response: {\n",
              "          action: 'append',\n",
              "          file: file.name,\n",
              "          data: base64,\n",
              "        },\n",
              "      };\n",
              "\n",
              "      let percentDone = fileData.byteLength === 0 ?\n",
              "          100 :\n",
              "          Math.round((position / fileData.byteLength) * 100);\n",
              "      percent.textContent = `${percentDone}% done`;\n",
              "\n",
              "    } while (position < fileData.byteLength);\n",
              "  }\n",
              "\n",
              "  // All done.\n",
              "  yield {\n",
              "    response: {\n",
              "      action: 'complete',\n",
              "    }\n",
              "  };\n",
              "}\n",
              "\n",
              "scope.google = scope.google || {};\n",
              "scope.google.colab = scope.google.colab || {};\n",
              "scope.google.colab._files = {\n",
              "  _uploadFiles,\n",
              "  _uploadFilesContinue,\n",
              "};\n",
              "})(self);\n",
              "</script> "
            ]
          },
          "metadata": {}
        },
        {
          "output_type": "stream",
          "name": "stdout",
          "text": [
            "Saving dataset_hunger.csv to dataset_hunger.csv\n"
          ]
        }
      ],
      "source": [
        "from google.colab import files\n",
        "uploaded = files.upload()"
      ]
    },
    {
      "cell_type": "code",
      "execution_count": 8,
      "metadata": {
        "id": "B8CBXa_rrbGh"
      },
      "outputs": [],
      "source": [
        "dados = pd.read_csv(\"dataset_hunger.csv\", sep=',', encoding='latin-1')"
      ],
      "id": "B8CBXa_rrbGh"
    },
    {
      "cell_type": "code",
      "execution_count": 10,
      "id": "c23447a3",
      "metadata": {
        "colab": {
          "base_uri": "https://localhost:8080/",
          "height": 206
        },
        "id": "c23447a3",
        "outputId": "3c3b9e35-d896-4408-fdb2-f56cd5ecabf0"
      },
      "outputs": [
        {
          "output_type": "execute_result",
          "data": {
            "text/plain": [
              "   Rank in 2022                 Country  2000 2007 2014 2022 Absolute change  \\\n",
              "0           NaN                     NaN   NaN  NaN  NaN  NaN      since 2014   \n",
              "1           1.0                 Belarus    <5   <5   <5   <5               0   \n",
              "2           1.0  Bosnia and Herzegovina   9.3  6.6   <5   <5               0   \n",
              "3           1.0                   Chile    <5   <5   <5   <5               0   \n",
              "4           1.0                   China  13.3  7.8   <5   <5               0   \n",
              "\n",
              "  Percent change  \n",
              "0     since 2014  \n",
              "1              0  \n",
              "2              0  \n",
              "3              0  \n",
              "4              0  "
            ],
            "text/html": [
              "\n",
              "  <div id=\"df-52916692-df2a-4b31-a8b4-aa47d371ea07\">\n",
              "    <div class=\"colab-df-container\">\n",
              "      <div>\n",
              "<style scoped>\n",
              "    .dataframe tbody tr th:only-of-type {\n",
              "        vertical-align: middle;\n",
              "    }\n",
              "\n",
              "    .dataframe tbody tr th {\n",
              "        vertical-align: top;\n",
              "    }\n",
              "\n",
              "    .dataframe thead th {\n",
              "        text-align: right;\n",
              "    }\n",
              "</style>\n",
              "<table border=\"1\" class=\"dataframe\">\n",
              "  <thead>\n",
              "    <tr style=\"text-align: right;\">\n",
              "      <th></th>\n",
              "      <th>Rank in 2022</th>\n",
              "      <th>Country</th>\n",
              "      <th>2000</th>\n",
              "      <th>2007</th>\n",
              "      <th>2014</th>\n",
              "      <th>2022</th>\n",
              "      <th>Absolute change</th>\n",
              "      <th>Percent change</th>\n",
              "    </tr>\n",
              "  </thead>\n",
              "  <tbody>\n",
              "    <tr>\n",
              "      <th>0</th>\n",
              "      <td>NaN</td>\n",
              "      <td>NaN</td>\n",
              "      <td>NaN</td>\n",
              "      <td>NaN</td>\n",
              "      <td>NaN</td>\n",
              "      <td>NaN</td>\n",
              "      <td>since 2014</td>\n",
              "      <td>since 2014</td>\n",
              "    </tr>\n",
              "    <tr>\n",
              "      <th>1</th>\n",
              "      <td>1.0</td>\n",
              "      <td>Belarus</td>\n",
              "      <td>&lt;5</td>\n",
              "      <td>&lt;5</td>\n",
              "      <td>&lt;5</td>\n",
              "      <td>&lt;5</td>\n",
              "      <td>0</td>\n",
              "      <td>0</td>\n",
              "    </tr>\n",
              "    <tr>\n",
              "      <th>2</th>\n",
              "      <td>1.0</td>\n",
              "      <td>Bosnia and Herzegovina</td>\n",
              "      <td>9.3</td>\n",
              "      <td>6.6</td>\n",
              "      <td>&lt;5</td>\n",
              "      <td>&lt;5</td>\n",
              "      <td>0</td>\n",
              "      <td>0</td>\n",
              "    </tr>\n",
              "    <tr>\n",
              "      <th>3</th>\n",
              "      <td>1.0</td>\n",
              "      <td>Chile</td>\n",
              "      <td>&lt;5</td>\n",
              "      <td>&lt;5</td>\n",
              "      <td>&lt;5</td>\n",
              "      <td>&lt;5</td>\n",
              "      <td>0</td>\n",
              "      <td>0</td>\n",
              "    </tr>\n",
              "    <tr>\n",
              "      <th>4</th>\n",
              "      <td>1.0</td>\n",
              "      <td>China</td>\n",
              "      <td>13.3</td>\n",
              "      <td>7.8</td>\n",
              "      <td>&lt;5</td>\n",
              "      <td>&lt;5</td>\n",
              "      <td>0</td>\n",
              "      <td>0</td>\n",
              "    </tr>\n",
              "  </tbody>\n",
              "</table>\n",
              "</div>\n",
              "      <button class=\"colab-df-convert\" onclick=\"convertToInteractive('df-52916692-df2a-4b31-a8b4-aa47d371ea07')\"\n",
              "              title=\"Convert this dataframe to an interactive table.\"\n",
              "              style=\"display:none;\">\n",
              "        \n",
              "  <svg xmlns=\"http://www.w3.org/2000/svg\" height=\"24px\"viewBox=\"0 0 24 24\"\n",
              "       width=\"24px\">\n",
              "    <path d=\"M0 0h24v24H0V0z\" fill=\"none\"/>\n",
              "    <path d=\"M18.56 5.44l.94 2.06.94-2.06 2.06-.94-2.06-.94-.94-2.06-.94 2.06-2.06.94zm-11 1L8.5 8.5l.94-2.06 2.06-.94-2.06-.94L8.5 2.5l-.94 2.06-2.06.94zm10 10l.94 2.06.94-2.06 2.06-.94-2.06-.94-.94-2.06-.94 2.06-2.06.94z\"/><path d=\"M17.41 7.96l-1.37-1.37c-.4-.4-.92-.59-1.43-.59-.52 0-1.04.2-1.43.59L10.3 9.45l-7.72 7.72c-.78.78-.78 2.05 0 2.83L4 21.41c.39.39.9.59 1.41.59.51 0 1.02-.2 1.41-.59l7.78-7.78 2.81-2.81c.8-.78.8-2.07 0-2.86zM5.41 20L4 18.59l7.72-7.72 1.47 1.35L5.41 20z\"/>\n",
              "  </svg>\n",
              "      </button>\n",
              "      \n",
              "  <style>\n",
              "    .colab-df-container {\n",
              "      display:flex;\n",
              "      flex-wrap:wrap;\n",
              "      gap: 12px;\n",
              "    }\n",
              "\n",
              "    .colab-df-convert {\n",
              "      background-color: #E8F0FE;\n",
              "      border: none;\n",
              "      border-radius: 50%;\n",
              "      cursor: pointer;\n",
              "      display: none;\n",
              "      fill: #1967D2;\n",
              "      height: 32px;\n",
              "      padding: 0 0 0 0;\n",
              "      width: 32px;\n",
              "    }\n",
              "\n",
              "    .colab-df-convert:hover {\n",
              "      background-color: #E2EBFA;\n",
              "      box-shadow: 0px 1px 2px rgba(60, 64, 67, 0.3), 0px 1px 3px 1px rgba(60, 64, 67, 0.15);\n",
              "      fill: #174EA6;\n",
              "    }\n",
              "\n",
              "    [theme=dark] .colab-df-convert {\n",
              "      background-color: #3B4455;\n",
              "      fill: #D2E3FC;\n",
              "    }\n",
              "\n",
              "    [theme=dark] .colab-df-convert:hover {\n",
              "      background-color: #434B5C;\n",
              "      box-shadow: 0px 1px 3px 1px rgba(0, 0, 0, 0.15);\n",
              "      filter: drop-shadow(0px 1px 2px rgba(0, 0, 0, 0.3));\n",
              "      fill: #FFFFFF;\n",
              "    }\n",
              "  </style>\n",
              "\n",
              "      <script>\n",
              "        const buttonEl =\n",
              "          document.querySelector('#df-52916692-df2a-4b31-a8b4-aa47d371ea07 button.colab-df-convert');\n",
              "        buttonEl.style.display =\n",
              "          google.colab.kernel.accessAllowed ? 'block' : 'none';\n",
              "\n",
              "        async function convertToInteractive(key) {\n",
              "          const element = document.querySelector('#df-52916692-df2a-4b31-a8b4-aa47d371ea07');\n",
              "          const dataTable =\n",
              "            await google.colab.kernel.invokeFunction('convertToInteractive',\n",
              "                                                     [key], {});\n",
              "          if (!dataTable) return;\n",
              "\n",
              "          const docLinkHtml = 'Like what you see? Visit the ' +\n",
              "            '<a target=\"_blank\" href=https://colab.research.google.com/notebooks/data_table.ipynb>data table notebook</a>'\n",
              "            + ' to learn more about interactive tables.';\n",
              "          element.innerHTML = '';\n",
              "          dataTable['output_type'] = 'display_data';\n",
              "          await google.colab.output.renderOutput(dataTable, element);\n",
              "          const docLink = document.createElement('div');\n",
              "          docLink.innerHTML = docLinkHtml;\n",
              "          element.appendChild(docLink);\n",
              "        }\n",
              "      </script>\n",
              "    </div>\n",
              "  </div>\n",
              "  "
            ]
          },
          "metadata": {},
          "execution_count": 10
        }
      ],
      "source": [
        "dados.head()"
      ]
    },
    {
      "cell_type": "code",
      "execution_count": 13,
      "id": "a99b8a8e",
      "metadata": {
        "colab": {
          "base_uri": "https://localhost:8080/",
          "height": 328
        },
        "id": "a99b8a8e",
        "outputId": "7067bc0a-0f85-44bf-bf48-d478f9d21ae7"
      },
      "outputs": [
        {
          "output_type": "error",
          "ename": "ValueError",
          "evalue": "ignored",
          "traceback": [
            "\u001b[0;31m---------------------------------------------------------------------------\u001b[0m",
            "\u001b[0;31mValueError\u001b[0m                                Traceback (most recent call last)",
            "\u001b[0;32m<ipython-input-13-0dcfa130dfb1>\u001b[0m in \u001b[0;36m<cell line: 1>\u001b[0;34m()\u001b[0m\n\u001b[0;32m----> 1\u001b[0;31m \u001b[0msns\u001b[0m\u001b[0;34m.\u001b[0m\u001b[0mpairplot\u001b[0m\u001b[0;34m(\u001b[0m\u001b[0mdados\u001b[0m\u001b[0;34m,\u001b[0m \u001b[0mhue\u001b[0m\u001b[0;34m=\u001b[0m\u001b[0;34m'Rank in 2022'\u001b[0m\u001b[0;34m)\u001b[0m\u001b[0;34m\u001b[0m\u001b[0;34m\u001b[0m\u001b[0m\n\u001b[0m",
            "\u001b[0;32m/usr/local/lib/python3.10/dist-packages/seaborn/axisgrid.py\u001b[0m in \u001b[0;36mpairplot\u001b[0;34m(data, hue, hue_order, palette, vars, x_vars, y_vars, kind, diag_kind, markers, height, aspect, corner, dropna, plot_kws, diag_kws, grid_kws, size)\u001b[0m\n\u001b[1;32m   2112\u001b[0m     \u001b[0;31m# Set up the PairGrid\u001b[0m\u001b[0;34m\u001b[0m\u001b[0;34m\u001b[0m\u001b[0m\n\u001b[1;32m   2113\u001b[0m     \u001b[0mgrid_kws\u001b[0m\u001b[0;34m.\u001b[0m\u001b[0msetdefault\u001b[0m\u001b[0;34m(\u001b[0m\u001b[0;34m\"diag_sharey\"\u001b[0m\u001b[0;34m,\u001b[0m \u001b[0mdiag_kind\u001b[0m \u001b[0;34m==\u001b[0m \u001b[0;34m\"hist\"\u001b[0m\u001b[0;34m)\u001b[0m\u001b[0;34m\u001b[0m\u001b[0;34m\u001b[0m\u001b[0m\n\u001b[0;32m-> 2114\u001b[0;31m     grid = PairGrid(data, vars=vars, x_vars=x_vars, y_vars=y_vars, hue=hue,\n\u001b[0m\u001b[1;32m   2115\u001b[0m                     \u001b[0mhue_order\u001b[0m\u001b[0;34m=\u001b[0m\u001b[0mhue_order\u001b[0m\u001b[0;34m,\u001b[0m \u001b[0mpalette\u001b[0m\u001b[0;34m=\u001b[0m\u001b[0mpalette\u001b[0m\u001b[0;34m,\u001b[0m \u001b[0mcorner\u001b[0m\u001b[0;34m=\u001b[0m\u001b[0mcorner\u001b[0m\u001b[0;34m,\u001b[0m\u001b[0;34m\u001b[0m\u001b[0;34m\u001b[0m\u001b[0m\n\u001b[1;32m   2116\u001b[0m                     height=height, aspect=aspect, dropna=dropna, **grid_kws)\n",
            "\u001b[0;32m/usr/local/lib/python3.10/dist-packages/seaborn/axisgrid.py\u001b[0m in \u001b[0;36m__init__\u001b[0;34m(self, data, hue, vars, x_vars, y_vars, hue_order, palette, hue_kws, corner, diag_sharey, height, aspect, layout_pad, despine, dropna)\u001b[0m\n\u001b[1;32m   1264\u001b[0m \u001b[0;34m\u001b[0m\u001b[0m\n\u001b[1;32m   1265\u001b[0m         \u001b[0;32mif\u001b[0m \u001b[0;32mnot\u001b[0m \u001b[0mx_vars\u001b[0m\u001b[0;34m:\u001b[0m\u001b[0;34m\u001b[0m\u001b[0;34m\u001b[0m\u001b[0m\n\u001b[0;32m-> 1266\u001b[0;31m             \u001b[0;32mraise\u001b[0m \u001b[0mValueError\u001b[0m\u001b[0;34m(\u001b[0m\u001b[0;34m\"No variables found for grid columns.\"\u001b[0m\u001b[0;34m)\u001b[0m\u001b[0;34m\u001b[0m\u001b[0;34m\u001b[0m\u001b[0m\n\u001b[0m\u001b[1;32m   1267\u001b[0m         \u001b[0;32mif\u001b[0m \u001b[0;32mnot\u001b[0m \u001b[0my_vars\u001b[0m\u001b[0;34m:\u001b[0m\u001b[0;34m\u001b[0m\u001b[0;34m\u001b[0m\u001b[0m\n\u001b[1;32m   1268\u001b[0m             \u001b[0;32mraise\u001b[0m \u001b[0mValueError\u001b[0m\u001b[0;34m(\u001b[0m\u001b[0;34m\"No variables found for grid rows.\"\u001b[0m\u001b[0;34m)\u001b[0m\u001b[0;34m\u001b[0m\u001b[0;34m\u001b[0m\u001b[0m\n",
            "\u001b[0;31mValueError\u001b[0m: No variables found for grid columns."
          ]
        }
      ],
      "source": [
        "sns.pairplot(dados.drop(columns=['Age']), hue='Rank in 2022')"
      ]
    },
    {
      "cell_type": "code",
      "execution_count": null,
      "id": "908e7ec6",
      "metadata": {
        "id": "908e7ec6",
        "outputId": "b5c3fc28-5aea-4956-8278-87df020196b4"
      },
      "outputs": [
        {
          "data": {
            "image/png": "[encoded data removed]",
            "text/plain": [
              "<Figure size 640x400 with 8 Axes>"
            ]
          },
          "metadata": {
            "needs_background": "light"
          },
          "output_type": "display_data"
        }
      ],
      "source": [
        "fig, axes = plt.subplots(2, 4, figsize=(8, 5), dpi=80)\n",
        "\n",
        "sns.histplot(ax=axes[0][0],\n",
        "            data=dados,  # Perceba que estamos passando a coluna o dataframe completo\n",
        "            x = dados['Pregnancies'], # E aqui estamos selecionando a coluna\n",
        "            kde=True,\n",
        "            bins=20,\n",
        "            linewidth=0.7,\n",
        "            hue = dados['Outcome'],\n",
        "            palette=[\"g\", \"r\"]\n",
        "            )\n",
        "\n",
        "sns.histplot(ax=axes[0][1],\n",
        "            data=dados,  # Perceba que estamos passando a coluna o dataframe completo\n",
        "            x = dados['Glucose'], # E aqui estamos selecionando a coluna\n",
        "            kde=True,\n",
        "            bins=20,\n",
        "            linewidth=0.7,\n",
        "            hue = dados['Outcome'],\n",
        "            palette=[\"g\", \"r\"]\n",
        "            )\n",
        "\n",
        "sns.histplot(ax=axes[0][2],\n",
        "            data=dados,  # Perceba que estamos passando a coluna o dataframe completo\n",
        "            x = dados['BloodPressure'], # E aqui estamos selecionando a coluna\n",
        "            kde=True,\n",
        "            bins=20,\n",
        "            linewidth=0.7,\n",
        "            hue = dados['Outcome'],\n",
        "            palette=[\"g\", \"r\"]\n",
        "            )\n",
        "\n",
        "sns.histplot(ax=axes[0][3],\n",
        "            data=dados,  # Perceba que estamos passando a coluna o dataframe completo\n",
        "            x = dados['SkinThickness'], # E aqui estamos selecionando a coluna\n",
        "            kde=True,\n",
        "            bins=20,\n",
        "            linewidth=0.7,\n",
        "            hue = dados['Outcome'],\n",
        "            palette=[\"g\", \"r\"]\n",
        "            )\n",
        "\n",
        "sns.histplot(ax=axes[1][0],\n",
        "            data=dados,  # Perceba que estamos passando a coluna o dataframe completo\n",
        "            x = dados['Insulin'], # E aqui estamos selecionando a coluna\n",
        "            kde=True,\n",
        "            bins=20,\n",
        "            linewidth=0.7,\n",
        "            hue = dados['Outcome'],\n",
        "            palette=[\"g\", \"r\"]\n",
        "            )\n",
        "\n",
        "sns.histplot(ax=axes[1][1],\n",
        "            data=dados,  # Perceba que estamos passando a coluna o dataframe completo\n",
        "            x = dados['BMI'], # E aqui estamos selecionando a coluna\n",
        "            kde=True,\n",
        "            bins=20,\n",
        "            linewidth=0.7,\n",
        "            hue = dados['Outcome'],\n",
        "            palette=[\"g\", \"r\"]\n",
        "            )\n",
        "\n",
        "sns.histplot(ax=axes[1][2],\n",
        "            data=dados,  # Perceba que estamos passando a coluna o dataframe completo\n",
        "            x = dados['DiabetesPedigreeFunction'], # E aqui estamos selecionando a coluna\n",
        "            kde=True,\n",
        "            bins=20,\n",
        "            linewidth=0.7,\n",
        "            hue = dados['Outcome'],\n",
        "            palette=[\"g\", \"r\"]\n",
        "            )\n",
        "\n",
        "sns.histplot(ax=axes[1][3],\n",
        "            data=dados,  # Perceba que estamos passando a coluna o dataframe completo\n",
        "            x = dados['Age'], # E aqui estamos selecionando a coluna\n",
        "            kde=True,\n",
        "            bins=20,\n",
        "            linewidth=0.7,\n",
        "            hue = dados['Outcome'],\n",
        "            palette=[\"g\", \"r\"]\n",
        "            )\n",
        "\n",
        "plt.subplots_adjust(wspace=0.2, hspace=0.4)"
      ]
    },
    {
      "cell_type": "markdown",
      "id": "32f76abb",
      "metadata": {
        "id": "32f76abb"
      },
      "source": [
        "### Exercício 1.2 - Com base na análise dos histogramas, tem alguma feature que tem comportamento diferente das demais?\n"
      ]
    },
    {
      "cell_type": "code",
      "execution_count": null,
      "id": "3681f22f",
      "metadata": {
        "id": "3681f22f"
      },
      "outputs": [],
      "source": [
        "# Resposta:\n",
        "# Analisando o gráfico relacionado à gravidez, podemos perceber que quanto mais vezes uma pessoa engravidar, \n",
        "# maiores as chances de ter diabetes. \n",
        "# Quanto maior o nível de glucose e insulina mais propensa a pessoa estará a diabetes.\n",
        "# Já as colunas pressão sanguínea, grossura da pele, \"Diabetes pedigree function\" e BMI \n",
        "# não conseguimos identificar a relação direta com a doença.\n",
        "# Em relação à idade, é possível perceber que quanto menor ela é, menor a incidência de casos positivos de dabetes."
      ]
    },
    {
      "cell_type": "markdown",
      "id": "f59661ce",
      "metadata": {
        "id": "f59661ce"
      },
      "source": [
        "### Exercício 1.3 - Realize separação de dados em treino e teste\n",
        "\n",
        "Separe nos dois conjuntos.\n",
        "\n",
        "Vai ser necessário separar a coluna de rótulos Y, aqui denominada de \"Outcome\"\n",
        "\n",
        "Exiba as primeiras linhas dos conjuntos resultantes x_train e y_train.\n"
      ]
    },
    {
      "cell_type": "code",
      "execution_count": null,
      "id": "0068eb09",
      "metadata": {
        "id": "0068eb09"
      },
      "outputs": [],
      "source": [
        "from sklearn.model_selection import train_test_split"
      ]
    },
    {
      "cell_type": "code",
      "execution_count": null,
      "id": "af11c663",
      "metadata": {
        "id": "af11c663"
      },
      "outputs": [],
      "source": [
        "# Escolhendo as colunas preditivas e alvo\n",
        "x = dados.drop(columns = ['Outcome']) # Somente Comprimento do Abdômen e Comprimento das Antenas\n",
        "y = dados['Outcome']                # Classe alvo\n",
        "\n",
        "# Dividindo conjunto de treinamento e conjunto de teste\n",
        "x_train, x_test, y_train, y_test = train_test_split(x, y, test_size = 0.20, random_state = 8)"
      ]
    },
    {
      "cell_type": "code",
      "execution_count": null,
      "id": "b430aa3a",
      "metadata": {
        "id": "b430aa3a",
        "outputId": "fc768f40-c8b2-4032-ab00-5e4de7848f3f"
      },
      "outputs": [
        {
          "data": {
            "text/html": [
              "<div>\n",
              "<style scoped>\n",
              "    .dataframe tbody tr th:only-of-type {\n",
              "        vertical-align: middle;\n",
              "    }\n",
              "\n",
              "    .dataframe tbody tr th {\n",
              "        vertical-align: top;\n",
              "    }\n",
              "\n",
              "    .dataframe thead th {\n",
              "        text-align: right;\n",
              "    }\n",
              "</style>\n",
              "<table border=\"1\" class=\"dataframe\">\n",
              "  <thead>\n",
              "    <tr style=\"text-align: right;\">\n",
              "      <th></th>\n",
              "      <th>Pregnancies</th>\n",
              "      <th>Glucose</th>\n",
              "      <th>BloodPressure</th>\n",
              "      <th>SkinThickness</th>\n",
              "      <th>Insulin</th>\n",
              "      <th>BMI</th>\n",
              "      <th>DiabetesPedigreeFunction</th>\n",
              "      <th>Age</th>\n",
              "    </tr>\n",
              "  </thead>\n",
              "  <tbody>\n",
              "    <tr>\n",
              "      <th>610</th>\n",
              "      <td>3</td>\n",
              "      <td>106</td>\n",
              "      <td>54</td>\n",
              "      <td>21</td>\n",
              "      <td>158</td>\n",
              "      <td>30.9</td>\n",
              "      <td>0.292</td>\n",
              "      <td>24</td>\n",
              "    </tr>\n",
              "    <tr>\n",
              "      <th>151</th>\n",
              "      <td>4</td>\n",
              "      <td>114</td>\n",
              "      <td>65</td>\n",
              "      <td>0</td>\n",
              "      <td>0</td>\n",
              "      <td>21.9</td>\n",
              "      <td>0.432</td>\n",
              "      <td>37</td>\n",
              "    </tr>\n",
              "    <tr>\n",
              "      <th>464</th>\n",
              "      <td>10</td>\n",
              "      <td>115</td>\n",
              "      <td>98</td>\n",
              "      <td>0</td>\n",
              "      <td>0</td>\n",
              "      <td>24.0</td>\n",
              "      <td>1.022</td>\n",
              "      <td>34</td>\n",
              "    </tr>\n",
              "    <tr>\n",
              "      <th>5</th>\n",
              "      <td>5</td>\n",
              "      <td>116</td>\n",
              "      <td>74</td>\n",
              "      <td>0</td>\n",
              "      <td>0</td>\n",
              "      <td>25.6</td>\n",
              "      <td>0.201</td>\n",
              "      <td>30</td>\n",
              "    </tr>\n",
              "    <tr>\n",
              "      <th>674</th>\n",
              "      <td>8</td>\n",
              "      <td>91</td>\n",
              "      <td>82</td>\n",
              "      <td>0</td>\n",
              "      <td>0</td>\n",
              "      <td>35.6</td>\n",
              "      <td>0.587</td>\n",
              "      <td>68</td>\n",
              "    </tr>\n",
              "  </tbody>\n",
              "</table>\n",
              "</div>"
            ],
            "text/plain": [
              "     Pregnancies  Glucose  BloodPressure  SkinThickness  Insulin   BMI  \\\n",
              "610            3      106             54             21      158  30.9   \n",
              "151            4      114             65              0        0  21.9   \n",
              "464           10      115             98              0        0  24.0   \n",
              "5              5      116             74              0        0  25.6   \n",
              "674            8       91             82              0        0  35.6   \n",
              "\n",
              "     DiabetesPedigreeFunction  Age  \n",
              "610                     0.292   24  \n",
              "151                     0.432   37  \n",
              "464                     1.022   34  \n",
              "5                       0.201   30  \n",
              "674                     0.587   68  "
            ]
          },
          "execution_count": 23,
          "metadata": {},
          "output_type": "execute_result"
        }
      ],
      "source": [
        "# Exibir primeros dados de x_train\n",
        "\n",
        "x_train.head()"
      ]
    },
    {
      "cell_type": "code",
      "execution_count": null,
      "id": "a4295061",
      "metadata": {
        "id": "a4295061",
        "outputId": "c89d18fd-1b57-4c9c-e415-750f21f7dc04"
      },
      "outputs": [
        {
          "data": {
            "text/plain": [
              "610    0\n",
              "151    0\n",
              "464    0\n",
              "5      0\n",
              "674    0\n",
              "Name: Outcome, dtype: int64"
            ]
          },
          "execution_count": 24,
          "metadata": {},
          "output_type": "execute_result"
        }
      ],
      "source": [
        "y_train.head()"
      ]
    },
    {
      "cell_type": "markdown",
      "id": "fe80f1f4",
      "metadata": {
        "id": "fe80f1f4"
      },
      "source": [
        "### Exercício 1.4 - Crie classificadores para predição se uma determinada mulher tem ou não um diagnostico positivo para diabetes. \n",
        "\n",
        "Utilize os classificadores abaixo:\n",
        "\n",
        "- Naive Bayes\n",
        "- k-vizinhos mais próximos (KNN)\n",
        "- Máquina de Vetor Suporte (SVM)\n",
        "- RandomForest\n",
        "\n",
        "\n",
        "Para cada classificador acima você deve treinar (função fit), realizar predições no conjunto de teste e comparar com os rótulos originais. Avaliar os resultados (obter acurácia e f1-score de cada classificador)."
      ]
    },
    {
      "cell_type": "code",
      "execution_count": null,
      "id": "9a8a29f0",
      "metadata": {
        "id": "9a8a29f0"
      },
      "outputs": [],
      "source": [
        "from sklearn.preprocessing import StandardScaler, MinMaxScaler"
      ]
    },
    {
      "cell_type": "code",
      "execution_count": null,
      "id": "e8da4cce",
      "metadata": {
        "id": "e8da4cce"
      },
      "outputs": [],
      "source": [
        "# Instanciando o Escalonador\n",
        "#scaler = StandardScaler()\n",
        "scaler = MinMaxScaler()\n",
        "\n",
        "# Treinando o escalonador\n",
        "scaler.fit(x_train)\n",
        "\n",
        "# Usando o escalonador treinado para transformar os dados\n",
        "x_train_scaled = scaler.transform(x_train)\n",
        "x_test_scaled = scaler.transform(x_test)"
      ]
    },
    {
      "cell_type": "code",
      "execution_count": null,
      "id": "7b5fa663",
      "metadata": {
        "id": "7b5fa663"
      },
      "outputs": [],
      "source": [
        "from sklearn.metrics import f1_score, accuracy_score, classification_report\n",
        "from sklearn.discriminant_analysis import LinearDiscriminantAnalysis"
      ]
    },
    {
      "cell_type": "code",
      "execution_count": null,
      "id": "f12363a9",
      "metadata": {
        "id": "f12363a9",
        "outputId": "c8766a63-3b62-4615-a759-162a5d30b63b"
      },
      "outputs": [
        {
          "data": {
            "text/plain": [
              "LinearDiscriminantAnalysis()"
            ]
          },
          "execution_count": 36,
          "metadata": {},
          "output_type": "execute_result"
        }
      ],
      "source": [
        "## Coloque seu código aqui (de maneira organizada, dividindo em diferentes células do notebook para cada classificador)\n",
        "lda = LinearDiscriminantAnalysis()  # Criamos o objeto do classificador (não mudamos nenhum hiperpârametro)\n",
        "\n",
        "lda.fit(x_train, y_train) # Treinamos o classificador passando apenas o conjunto de dados de treinamento "
      ]
    },
    {
      "cell_type": "code",
      "execution_count": null,
      "id": "261aff2a",
      "metadata": {
        "id": "261aff2a"
      },
      "outputs": [],
      "source": [
        "# Perceba que estamos passando apenas o x de teste, afinal o algoritmo é que nos dira qual é o y \n",
        "y_predicoes = lda.predict(x_test) "
      ]
    },
    {
      "cell_type": "code",
      "execution_count": null,
      "id": "a08042ac",
      "metadata": {
        "id": "a08042ac",
        "outputId": "d2f776a4-a61e-4b1e-d43d-1f080962d70a"
      },
      "outputs": [
        {
          "name": "stdout",
          "output_type": "stream",
          "text": [
            "              precision    recall  f1-score   support\n",
            "\n",
            "           0       0.80      0.78      0.79       102\n",
            "           1       0.59      0.62      0.60        52\n",
            "\n",
            "    accuracy                           0.73       154\n",
            "   macro avg       0.70      0.70      0.70       154\n",
            "weighted avg       0.73      0.73      0.73       154\n",
            "\n"
          ]
        }
      ],
      "source": [
        "# k-vizinhos mais próximos (KNN)\n",
        "from sklearn.neighbors import KNeighborsClassifier\n",
        "\n",
        "# Passo 4 - Treinar o Classificador\n",
        "knn = KNeighborsClassifier() # Criando classificador (sem nenhum hiperparametro)\n",
        "knn.fit(x_train, y_train) # Treinamos o classificador passando apenas o conjunto de dados de treinamento \n",
        "\n",
        "# Passo 5 - Testar o Classificador\n",
        "y_predicoes = knn.predict(x_test) \n",
        "\n",
        "# Metricas de precisão, revocação, f1-score e acurácia.\n",
        "print(classification_report(y_test, y_predicoes))"
      ]
    },
    {
      "cell_type": "code",
      "execution_count": null,
      "id": "281613e0",
      "metadata": {
        "id": "281613e0",
        "outputId": "8fd6cd80-6fea-4feb-9b03-4c6f80155de7"
      },
      "outputs": [
        {
          "name": "stdout",
          "output_type": "stream",
          "text": [
            "              precision    recall  f1-score   support\n",
            "\n",
            "           0       0.82      0.84      0.83       102\n",
            "           1       0.67      0.63      0.65        52\n",
            "\n",
            "    accuracy                           0.77       154\n",
            "   macro avg       0.75      0.74      0.74       154\n",
            "weighted avg       0.77      0.77      0.77       154\n",
            "\n"
          ]
        }
      ],
      "source": [
        "# Naive Bayes Gaussiano\n",
        "from sklearn.naive_bayes import GaussianNB\n",
        "\n",
        "# Passo 4 - Treinar o Classificador\n",
        "gnb = GaussianNB()  # Criamos o objeto do classificador (não mudamos nenhum hiperpârametro)\n",
        "gnb.fit(x_train, y_train) # Treinamos o classificador passando apenas o conjunto de dados de treinamento \n",
        "\n",
        "# Passo 5 - Testar o Classificador\n",
        "y_predicoes = gnb.predict(x_test) \n",
        "\n",
        "# Metricas de precisão, revocação, f1-score e acurácia.\n",
        "print(classification_report(y_test, y_predicoes))"
      ]
    },
    {
      "cell_type": "code",
      "execution_count": null,
      "id": "d60c4566",
      "metadata": {
        "id": "d60c4566",
        "outputId": "c73ddcb3-1a89-4734-f07d-11884ec8a679"
      },
      "outputs": [
        {
          "name": "stdout",
          "output_type": "stream",
          "text": [
            "              precision    recall  f1-score   support\n",
            "\n",
            "           0       0.79      0.82      0.81       102\n",
            "           1       0.62      0.58      0.60        52\n",
            "\n",
            "    accuracy                           0.74       154\n",
            "   macro avg       0.71      0.70      0.70       154\n",
            "weighted avg       0.74      0.74      0.74       154\n",
            "\n"
          ]
        }
      ],
      "source": [
        "# RandomForest\n",
        "from sklearn.ensemble import RandomForestClassifier\n",
        "\n",
        "# Passo 4 - Treinar o Classificador\n",
        "rf = RandomForestClassifier(random_state=42) # Criando classificador (hiperparametro de seed)\n",
        "rf.fit(x_train, y_train) # Treinamos o classificador passando apenas o conjunto de dados de treinamento \n",
        "\n",
        "# Passo 5 - Testar o Classificador\n",
        "y_predicoes = rf.predict(x_test) \n",
        "\n",
        "# Metricas de precisão, revocação, f1-score e acurácia.\n",
        "print(classification_report(y_test, y_predicoes))"
      ]
    },
    {
      "cell_type": "code",
      "execution_count": null,
      "id": "6a093b42",
      "metadata": {
        "id": "6a093b42",
        "outputId": "cd172288-d99a-48f7-a01f-284c96dd2842"
      },
      "outputs": [
        {
          "name": "stdout",
          "output_type": "stream",
          "text": [
            "              precision    recall  f1-score   support\n",
            "\n",
            "           0       0.79      0.92      0.85       102\n",
            "           1       0.77      0.52      0.62        52\n",
            "\n",
            "    accuracy                           0.79       154\n",
            "   macro avg       0.78      0.72      0.74       154\n",
            "weighted avg       0.78      0.79      0.77       154\n",
            "\n"
          ]
        }
      ],
      "source": [
        "# Máquina de Vetor Suporte\n",
        "from sklearn.svm import SVC\n",
        "\n",
        "# Passo 4 - Treinar o Classificador\n",
        "svm = SVC() # Criando classificador (sem nenhum hiperparametro)\n",
        "svm.fit(x_train, y_train) # Treinamos o classificador passando apenas o conjunto de dados de treinamento \n",
        "\n",
        "# Passo 5 - Testar o Classificador\n",
        "y_predicoes = svm.predict(x_test) \n",
        "\n",
        "# Metricas de precisão, revocação, f1-score e acurácia.\n",
        "print(classification_report(y_test, y_predicoes))"
      ]
    },
    {
      "cell_type": "markdown",
      "id": "bc96703f",
      "metadata": {
        "id": "bc96703f"
      },
      "source": [
        "### Na célula abaixo, liste os seus resultados obtidos:"
      ]
    },
    {
      "cell_type": "code",
      "execution_count": null,
      "id": "6452c464",
      "metadata": {
        "id": "6452c464"
      },
      "outputs": [],
      "source": [
        "# Resposta:\n",
        "#Liste os resultados de cada classificadores com suas respectivas acurácias e f1-score.\n",
        "\n",
        "# Naive Bayes,                     Acurácia = 0.77    , F1-score: Classe 0: 0.83 e Classe 1: 0.65  \n",
        "# k-vizinhos mais próximos (KNN) , Acurácia = 0.73    , F1-score: Classe 0: 0.79 e Classe 1: 0.60  \n",
        "# Máquina de Vetor Suporte (SVM),  Acurácia = 0.79    , F1-score: Classe 0: 0.85 e Classe 1: 0.62\n",
        "# RandomForest,                    Acurácia = 0.74    , F1-score: Classe 0: 0.81 e Classe 1: 0.60"
      ]
    },
    {
      "cell_type": "code",
      "execution_count": null,
      "id": "22713992",
      "metadata": {
        "id": "22713992"
      },
      "outputs": [],
      "source": []
    },
    {
      "cell_type": "markdown",
      "id": "54f3639c",
      "metadata": {
        "id": "54f3639c"
      },
      "source": [
        "### Exercício1.5 - Qual foi o melhor Classificador (em acurácia como métrica principal e f1-score (para classe 0) que você conseguiu criar? \n",
        "\n",
        "Por qual razão você acha que esse classificador em especial funcionou melhor nos dados deste problema?"
      ]
    },
    {
      "cell_type": "code",
      "execution_count": null,
      "id": "1afa8f37",
      "metadata": {
        "id": "1afa8f37"
      },
      "outputs": [],
      "source": [
        "# Resposta:\n",
        "\n",
        "# O melhor classificador em acurácia e F1-score para a classe 0 foi a Máquina de Vetor Suporte (SVM), \n",
        "# pois ele tem os maiores valores de acurácia e F1-score"
      ]
    },
    {
      "cell_type": "markdown",
      "id": "4b062472",
      "metadata": {
        "id": "4b062472"
      },
      "source": [
        "### Exercício 1.6 - O que é explicabilidade? Cite um exemplo de algoritmo classificador com alta explicabilidade."
      ]
    },
    {
      "cell_type": "code",
      "execution_count": null,
      "id": "d7da1d7d",
      "metadata": {
        "id": "d7da1d7d"
      },
      "outputs": [],
      "source": [
        "# Resposta\n",
        "\n",
        "# Explicabilidade é a capacidade do modelo de demonstrar seus resultados claramente com o objetivo de ajudar \n",
        "# o usuário a tomar as melhores decisões. Regressão linear, regressão logística e árvore de decisão são exemplos de algoritmos\n",
        "# classificadores de alta explicabilidade"
      ]
    },
    {
      "cell_type": "markdown",
      "id": "6dbaec7e",
      "metadata": {
        "id": "6dbaec7e"
      },
      "source": [
        "### Exercício 1.7 - Descreva sucintamente os 6 passos da Metodologia de trabalho em ML\n"
      ]
    },
    {
      "cell_type": "code",
      "execution_count": null,
      "id": "40b477dc",
      "metadata": {
        "id": "40b477dc"
      },
      "outputs": [],
      "source": [
        "# Resposta\n",
        "# 1. Análise exploratória: nesse passo \"limpamos\" e trasformamos todos os dados de acordo com a necessidade.\n",
        "# 2. Separar dados: selecionar o alvo e as features além de separar em conjuntos de treinamento, teste e validação.\n",
        "# 3. Transformar os dados: Nessa etapa, é feito o escalonamento em dados numéricos ou Encodings em dados categóricos\n",
        "# 4. Treinar o algoritmo: Escolher o algoritmo, ajustar os hiperparâmetros e treinar o mesmo.\n",
        "# 5. Avaliar o desempenho: Escolher as métricas e testar e cima dos dados de teste em ML supervisonada.\n",
        "# 6. Produção: Aqui é feito o deploy do modelo na aplicação, que envolve outras competências e áreas."
      ]
    }
  ],
  "metadata": {
    "kernelspec": {
      "display_name": "Python 3 (ipykernel)",
      "language": "python",
      "name": "python3"
    },
    "language_info": {
      "codemirror_mode": {
        "name": "ipython",
        "version": 3
      },
      "file_extension": ".py",
      "mimetype": "text/x-python",
      "name": "python",
      "nbconvert_exporter": "python",
      "pygments_lexer": "ipython3",
      "version": "3.9.12"
    },
    "colab": {
      "provenance": []
    }
  },
  "nbformat": 4,
  "nbformat_minor": 5
}